{
 "cells": [
  {
   "cell_type": "code",
   "execution_count": 16,
   "id": "dd4f699c-58bc-4212-83c3-dd7c0cc2a59a",
   "metadata": {},
   "outputs": [],
   "source": [
    "import pandas as pd\n",
    "import numpy as np\n",
    "import seaborn as sns"
   ]
  },
  {
   "cell_type": "code",
   "execution_count": 18,
   "id": "a8fb303f-b094-4662-a13e-6aae47d981b8",
   "metadata": {},
   "outputs": [],
   "source": [
    "data=pd.read_csv(\"intern_car_regg.csv\")"
   ]
  },
  {
   "cell_type": "code",
   "execution_count": 20,
   "id": "3887a41b-1c1e-44e7-9f0e-df0e79fa8859",
   "metadata": {},
   "outputs": [
    {
     "data": {
      "text/html": [
       "<div>\n",
       "<style scoped>\n",
       "    .dataframe tbody tr th:only-of-type {\n",
       "        vertical-align: middle;\n",
       "    }\n",
       "\n",
       "    .dataframe tbody tr th {\n",
       "        vertical-align: top;\n",
       "    }\n",
       "\n",
       "    .dataframe thead th {\n",
       "        text-align: right;\n",
       "    }\n",
       "</style>\n",
       "<table border=\"1\" class=\"dataframe\">\n",
       "  <thead>\n",
       "    <tr style=\"text-align: right;\">\n",
       "      <th></th>\n",
       "      <th>Avtosalon</th>\n",
       "      <th>Qiymet</th>\n",
       "      <th>Valyuta</th>\n",
       "      <th>Şəhər</th>\n",
       "      <th>Marka</th>\n",
       "      <th>Model</th>\n",
       "      <th>Buraxılış ili</th>\n",
       "      <th>Ban növü</th>\n",
       "      <th>Rəng</th>\n",
       "      <th>Mühərrik</th>\n",
       "      <th>...</th>\n",
       "      <th>Yeni</th>\n",
       "      <th>Vəziyyəti</th>\n",
       "      <th>Yeniləndi</th>\n",
       "      <th>Baxışların sayı</th>\n",
       "      <th>Extra</th>\n",
       "      <th>Etrafli</th>\n",
       "      <th>Sahiblər</th>\n",
       "      <th>Hansı bazar üçün yığılıb</th>\n",
       "      <th>Yerlərin sayı</th>\n",
       "      <th>Qəzalı</th>\n",
       "    </tr>\n",
       "  </thead>\n",
       "  <tbody>\n",
       "    <tr>\n",
       "      <th>0</th>\n",
       "      <td>0</td>\n",
       "      <td>13500</td>\n",
       "      <td>AZN</td>\n",
       "      <td>Bakı</td>\n",
       "      <td>Opel</td>\n",
       "      <td>Vectra</td>\n",
       "      <td>2000</td>\n",
       "      <td>Hetçbek</td>\n",
       "      <td>Göy</td>\n",
       "      <td>1.6 L/101 a.g./Benzin</td>\n",
       "      <td>...</td>\n",
       "      <td>Xeyr</td>\n",
       "      <td>Vuruğu yoxdur, rənglənib</td>\n",
       "      <td>28.05.2023</td>\n",
       "      <td>267</td>\n",
       "      <td>Yüngül lehimli disklər, ABS, Kondisioner, Dəri...</td>\n",
       "      <td>Salam Barter mümkündür. 1.6 sadə mator mexanik...</td>\n",
       "      <td>2</td>\n",
       "      <td>Avropa</td>\n",
       "      <td>5</td>\n",
       "      <td>NaN</td>\n",
       "    </tr>\n",
       "    <tr>\n",
       "      <th>1</th>\n",
       "      <td>1</td>\n",
       "      <td>23500</td>\n",
       "      <td>USD</td>\n",
       "      <td>Bakı</td>\n",
       "      <td>Toyota</td>\n",
       "      <td>Corolla</td>\n",
       "      <td>2023</td>\n",
       "      <td>Sedan</td>\n",
       "      <td>Mavi</td>\n",
       "      <td>1.8 L/178 a.g./Hibrid</td>\n",
       "      <td>...</td>\n",
       "      <td>Bəli</td>\n",
       "      <td>Vuruğu yoxdur, rənglənməyib</td>\n",
       "      <td>28.05.2023</td>\n",
       "      <td>12410</td>\n",
       "      <td>Yüngül lehimli disklər, ABS, Yağış sensoru, Mə...</td>\n",
       "      <td>TOYOTA CAROLLA 2023 ALIŞ. 2 İL 80.000 KM ZƏMAN...</td>\n",
       "      <td>1</td>\n",
       "      <td>Rəsmi diler</td>\n",
       "      <td>5</td>\n",
       "      <td>NaN</td>\n",
       "    </tr>\n",
       "    <tr>\n",
       "      <th>2</th>\n",
       "      <td>0</td>\n",
       "      <td>33200</td>\n",
       "      <td>AZN</td>\n",
       "      <td>Bakı</td>\n",
       "      <td>Hyundai</td>\n",
       "      <td>Santa Fe</td>\n",
       "      <td>2013</td>\n",
       "      <td>Offroader / SUV</td>\n",
       "      <td>Qara</td>\n",
       "      <td>2.0 L/184 a.g./Dizel</td>\n",
       "      <td>...</td>\n",
       "      <td>Xeyr</td>\n",
       "      <td>Vuruğu yoxdur, rənglənməyib</td>\n",
       "      <td>28.05.2023</td>\n",
       "      <td>148</td>\n",
       "      <td>Yüngül lehimli disklər, ABS, Lyuk, Yağış senso...</td>\n",
       "      <td>Yeni gelib bakida surlmuyb qiymet mawin yanind...</td>\n",
       "      <td>1</td>\n",
       "      <td>Avropa</td>\n",
       "      <td>7</td>\n",
       "      <td>NaN</td>\n",
       "    </tr>\n",
       "    <tr>\n",
       "      <th>3</th>\n",
       "      <td>0</td>\n",
       "      <td>17000</td>\n",
       "      <td>AZN</td>\n",
       "      <td>Bakı</td>\n",
       "      <td>Ford</td>\n",
       "      <td>Fusion</td>\n",
       "      <td>2015</td>\n",
       "      <td>Sedan</td>\n",
       "      <td>Göy</td>\n",
       "      <td>1.5 L/181 a.g./Benzin</td>\n",
       "      <td>...</td>\n",
       "      <td>Xeyr</td>\n",
       "      <td>Vuruğu yoxdur, rənglənməyib</td>\n",
       "      <td>25.05.2023</td>\n",
       "      <td>3358</td>\n",
       "      <td>Yüngül lehimli disklər, ABS, Yağış sensoru, Mə...</td>\n",
       "      <td>Maşın xanım tərəfindən idarə olunub</td>\n",
       "      <td>NaN</td>\n",
       "      <td>NaN</td>\n",
       "      <td>NaN</td>\n",
       "      <td>NaN</td>\n",
       "    </tr>\n",
       "    <tr>\n",
       "      <th>4</th>\n",
       "      <td>0</td>\n",
       "      <td>36000</td>\n",
       "      <td>USD</td>\n",
       "      <td>Bakı</td>\n",
       "      <td>Toyota</td>\n",
       "      <td>RAV4</td>\n",
       "      <td>2022</td>\n",
       "      <td>Offroader / SUV</td>\n",
       "      <td>Qara</td>\n",
       "      <td>2.0 L/173 a.g./Benzin</td>\n",
       "      <td>...</td>\n",
       "      <td>Bəli</td>\n",
       "      <td>Vuruğu yoxdur, rənglənməyib</td>\n",
       "      <td>28.05.2023</td>\n",
       "      <td>16183</td>\n",
       "      <td>Yüngül lehimli disklər, ABS, Yağış sensoru, Mə...</td>\n",
       "      <td>Rəsmi dilerdən 10 il və ya 160.000 km zəmanəti...</td>\n",
       "      <td>1</td>\n",
       "      <td>NaN</td>\n",
       "      <td>5</td>\n",
       "      <td>NaN</td>\n",
       "    </tr>\n",
       "  </tbody>\n",
       "</table>\n",
       "<p>5 rows × 23 columns</p>\n",
       "</div>"
      ],
      "text/plain": [
       "   Avtosalon  Qiymet Valyuta Şəhər    Marka     Model  Buraxılış ili  \\\n",
       "0          0   13500     AZN  Bakı     Opel    Vectra           2000   \n",
       "1          1   23500     USD  Bakı   Toyota   Corolla           2023   \n",
       "2          0   33200     AZN  Bakı  Hyundai  Santa Fe           2013   \n",
       "3          0   17000     AZN  Bakı     Ford    Fusion           2015   \n",
       "4          0   36000     USD  Bakı   Toyota      RAV4           2022   \n",
       "\n",
       "          Ban növü  Rəng               Mühərrik  ...  Yeni  \\\n",
       "0          Hetçbek   Göy  1.6 L/101 a.g./Benzin  ...  Xeyr   \n",
       "1            Sedan  Mavi  1.8 L/178 a.g./Hibrid  ...  Bəli   \n",
       "2  Offroader / SUV  Qara   2.0 L/184 a.g./Dizel  ...  Xeyr   \n",
       "3            Sedan   Göy  1.5 L/181 a.g./Benzin  ...  Xeyr   \n",
       "4  Offroader / SUV  Qara  2.0 L/173 a.g./Benzin  ...  Bəli   \n",
       "\n",
       "                     Vəziyyəti    Yeniləndi Baxışların sayı  \\\n",
       "0     Vuruğu yoxdur, rənglənib   28.05.2023             267   \n",
       "1  Vuruğu yoxdur, rənglənməyib   28.05.2023           12410   \n",
       "2  Vuruğu yoxdur, rənglənməyib   28.05.2023             148   \n",
       "3  Vuruğu yoxdur, rənglənməyib   25.05.2023            3358   \n",
       "4  Vuruğu yoxdur, rənglənməyib   28.05.2023           16183   \n",
       "\n",
       "                                               Extra  \\\n",
       "0  Yüngül lehimli disklər, ABS, Kondisioner, Dəri...   \n",
       "1  Yüngül lehimli disklər, ABS, Yağış sensoru, Mə...   \n",
       "2  Yüngül lehimli disklər, ABS, Lyuk, Yağış senso...   \n",
       "3  Yüngül lehimli disklər, ABS, Yağış sensoru, Mə...   \n",
       "4  Yüngül lehimli disklər, ABS, Yağış sensoru, Mə...   \n",
       "\n",
       "                                             Etrafli  Sahiblər  \\\n",
       "0  Salam Barter mümkündür. 1.6 sadə mator mexanik...         2   \n",
       "1  TOYOTA CAROLLA 2023 ALIŞ. 2 İL 80.000 KM ZƏMAN...         1   \n",
       "2  Yeni gelib bakida surlmuyb qiymet mawin yanind...         1   \n",
       "3                Maşın xanım tərəfindən idarə olunub       NaN   \n",
       "4  Rəsmi dilerdən 10 il və ya 160.000 km zəmanəti...         1   \n",
       "\n",
       "  Hansı bazar üçün yığılıb Yerlərin sayı Qəzalı  \n",
       "0                   Avropa             5    NaN  \n",
       "1              Rəsmi diler             5    NaN  \n",
       "2                   Avropa             7    NaN  \n",
       "3                      NaN           NaN    NaN  \n",
       "4                      NaN             5    NaN  \n",
       "\n",
       "[5 rows x 23 columns]"
      ]
     },
     "execution_count": 20,
     "metadata": {},
     "output_type": "execute_result"
    }
   ],
   "source": [
    "data.head()"
   ]
  },
  {
   "cell_type": "code",
   "execution_count": 22,
   "id": "220cc26a-124a-45da-a0c9-9d6f17d88023",
   "metadata": {},
   "outputs": [
    {
     "data": {
      "text/plain": [
       "Index(['Avtosalon', 'Qiymet', 'Valyuta', 'Şəhər', 'Marka', 'Model',\n",
       "       'Buraxılış ili', 'Ban növü', 'Rəng', 'Mühərrik', 'Yürüş',\n",
       "       'Sürətlər qutusu', 'Ötürücü', 'Yeni', 'Vəziyyəti', 'Yeniləndi',\n",
       "       'Baxışların sayı', 'Extra', 'Etrafli', 'Sahiblər',\n",
       "       'Hansı bazar üçün yığılıb', 'Yerlərin sayı', 'Qəzalı'],\n",
       "      dtype='object')"
      ]
     },
     "execution_count": 22,
     "metadata": {},
     "output_type": "execute_result"
    }
   ],
   "source": [
    "data.columns"
   ]
  },
  {
   "cell_type": "code",
   "execution_count": 24,
   "id": "f491474c-057b-46d8-b2a0-774eaf848e1c",
   "metadata": {},
   "outputs": [],
   "source": [
    "#dataset üçün əhəmiyyətli olmayan datalar silinir\n",
    "data = data.drop('Şəhər', axis = 'columns')\n",
    "data = data.drop('Avtosalon', axis = 'columns')\n",
    "data = data.drop('Yeniləndi', axis = 'columns')\n",
    "data = data.drop('Baxışların sayı', axis = 'columns')\n",
    "data = data.drop('Etrafli', axis = 'columns')\n",
    "data = data.drop('Sahiblər', axis = 'columns')"
   ]
  },
  {
   "cell_type": "code",
   "execution_count": 26,
   "id": "430e0ca2-9842-4fa9-b60c-ba23ade6a1de",
   "metadata": {},
   "outputs": [
    {
     "data": {
      "text/plain": [
       "Index(['Qiymet', 'Valyuta', 'Marka', 'Model', 'Buraxılış ili', 'Ban növü',\n",
       "       'Rəng', 'Mühərrik', 'Yürüş', 'Sürətlər qutusu', 'Ötürücü', 'Yeni',\n",
       "       'Vəziyyəti', 'Extra', 'Hansı bazar üçün yığılıb', 'Yerlərin sayı',\n",
       "       'Qəzalı'],\n",
       "      dtype='object')"
      ]
     },
     "execution_count": 26,
     "metadata": {},
     "output_type": "execute_result"
    }
   ],
   "source": [
    "data.columns"
   ]
  },
  {
   "cell_type": "code",
   "execution_count": 28,
   "id": "26f80d7e-b369-4f9f-81af-c315091b4e5a",
   "metadata": {},
   "outputs": [
    {
     "data": {
      "text/html": [
       "<div>\n",
       "<style scoped>\n",
       "    .dataframe tbody tr th:only-of-type {\n",
       "        vertical-align: middle;\n",
       "    }\n",
       "\n",
       "    .dataframe tbody tr th {\n",
       "        vertical-align: top;\n",
       "    }\n",
       "\n",
       "    .dataframe thead th {\n",
       "        text-align: right;\n",
       "    }\n",
       "</style>\n",
       "<table border=\"1\" class=\"dataframe\">\n",
       "  <thead>\n",
       "    <tr style=\"text-align: right;\">\n",
       "      <th></th>\n",
       "      <th>Qiymet</th>\n",
       "      <th>Valyuta</th>\n",
       "      <th>Marka</th>\n",
       "      <th>Model</th>\n",
       "      <th>Buraxılış ili</th>\n",
       "      <th>Ban növü</th>\n",
       "      <th>Rəng</th>\n",
       "      <th>Mühərrik</th>\n",
       "      <th>Yürüş</th>\n",
       "      <th>Sürətlər qutusu</th>\n",
       "      <th>Ötürücü</th>\n",
       "      <th>Yeni</th>\n",
       "      <th>Vəziyyəti</th>\n",
       "      <th>Extra</th>\n",
       "      <th>Hansı bazar üçün yığılıb</th>\n",
       "      <th>Yerlərin sayı</th>\n",
       "      <th>Qəzalı</th>\n",
       "    </tr>\n",
       "  </thead>\n",
       "  <tbody>\n",
       "    <tr>\n",
       "      <th>0</th>\n",
       "      <td>13500</td>\n",
       "      <td>AZN</td>\n",
       "      <td>Opel</td>\n",
       "      <td>Vectra</td>\n",
       "      <td>2000</td>\n",
       "      <td>Hetçbek</td>\n",
       "      <td>Göy</td>\n",
       "      <td>1.6 L/101 a.g./Benzin</td>\n",
       "      <td>370 000 km</td>\n",
       "      <td>Mexaniki</td>\n",
       "      <td>Ön</td>\n",
       "      <td>Xeyr</td>\n",
       "      <td>Vuruğu yoxdur, rənglənib</td>\n",
       "      <td>Yüngül lehimli disklər, ABS, Kondisioner, Dəri...</td>\n",
       "      <td>Avropa</td>\n",
       "      <td>5</td>\n",
       "      <td>NaN</td>\n",
       "    </tr>\n",
       "    <tr>\n",
       "      <th>1</th>\n",
       "      <td>23500</td>\n",
       "      <td>USD</td>\n",
       "      <td>Toyota</td>\n",
       "      <td>Corolla</td>\n",
       "      <td>2023</td>\n",
       "      <td>Sedan</td>\n",
       "      <td>Mavi</td>\n",
       "      <td>1.8 L/178 a.g./Hibrid</td>\n",
       "      <td>0 km</td>\n",
       "      <td>Avtomat</td>\n",
       "      <td>Ön</td>\n",
       "      <td>Bəli</td>\n",
       "      <td>Vuruğu yoxdur, rənglənməyib</td>\n",
       "      <td>Yüngül lehimli disklər, ABS, Yağış sensoru, Mə...</td>\n",
       "      <td>Rəsmi diler</td>\n",
       "      <td>5</td>\n",
       "      <td>NaN</td>\n",
       "    </tr>\n",
       "    <tr>\n",
       "      <th>2</th>\n",
       "      <td>33200</td>\n",
       "      <td>AZN</td>\n",
       "      <td>Hyundai</td>\n",
       "      <td>Santa Fe</td>\n",
       "      <td>2013</td>\n",
       "      <td>Offroader / SUV</td>\n",
       "      <td>Qara</td>\n",
       "      <td>2.0 L/184 a.g./Dizel</td>\n",
       "      <td>168 636 km</td>\n",
       "      <td>Avtomat</td>\n",
       "      <td>Ön</td>\n",
       "      <td>Xeyr</td>\n",
       "      <td>Vuruğu yoxdur, rənglənməyib</td>\n",
       "      <td>Yüngül lehimli disklər, ABS, Lyuk, Yağış senso...</td>\n",
       "      <td>Avropa</td>\n",
       "      <td>7</td>\n",
       "      <td>NaN</td>\n",
       "    </tr>\n",
       "    <tr>\n",
       "      <th>3</th>\n",
       "      <td>17000</td>\n",
       "      <td>AZN</td>\n",
       "      <td>Ford</td>\n",
       "      <td>Fusion</td>\n",
       "      <td>2015</td>\n",
       "      <td>Sedan</td>\n",
       "      <td>Göy</td>\n",
       "      <td>1.5 L/181 a.g./Benzin</td>\n",
       "      <td>120 873 km</td>\n",
       "      <td>Avtomat</td>\n",
       "      <td>Ön</td>\n",
       "      <td>Xeyr</td>\n",
       "      <td>Vuruğu yoxdur, rənglənməyib</td>\n",
       "      <td>Yüngül lehimli disklər, ABS, Yağış sensoru, Mə...</td>\n",
       "      <td>NaN</td>\n",
       "      <td>NaN</td>\n",
       "      <td>NaN</td>\n",
       "    </tr>\n",
       "    <tr>\n",
       "      <th>4</th>\n",
       "      <td>36000</td>\n",
       "      <td>USD</td>\n",
       "      <td>Toyota</td>\n",
       "      <td>RAV4</td>\n",
       "      <td>2022</td>\n",
       "      <td>Offroader / SUV</td>\n",
       "      <td>Qara</td>\n",
       "      <td>2.0 L/173 a.g./Benzin</td>\n",
       "      <td>0 km</td>\n",
       "      <td>Avtomat</td>\n",
       "      <td>Ön</td>\n",
       "      <td>Bəli</td>\n",
       "      <td>Vuruğu yoxdur, rənglənməyib</td>\n",
       "      <td>Yüngül lehimli disklər, ABS, Yağış sensoru, Mə...</td>\n",
       "      <td>NaN</td>\n",
       "      <td>5</td>\n",
       "      <td>NaN</td>\n",
       "    </tr>\n",
       "  </tbody>\n",
       "</table>\n",
       "</div>"
      ],
      "text/plain": [
       "   Qiymet Valyuta    Marka     Model  Buraxılış ili         Ban növü  Rəng  \\\n",
       "0   13500     AZN     Opel    Vectra           2000          Hetçbek   Göy   \n",
       "1   23500     USD   Toyota   Corolla           2023            Sedan  Mavi   \n",
       "2   33200     AZN  Hyundai  Santa Fe           2013  Offroader / SUV  Qara   \n",
       "3   17000     AZN     Ford    Fusion           2015            Sedan   Göy   \n",
       "4   36000     USD   Toyota      RAV4           2022  Offroader / SUV  Qara   \n",
       "\n",
       "                Mühərrik       Yürüş Sürətlər qutusu Ötürücü  Yeni  \\\n",
       "0  1.6 L/101 a.g./Benzin  370 000 km        Mexaniki      Ön  Xeyr   \n",
       "1  1.8 L/178 a.g./Hibrid        0 km         Avtomat      Ön  Bəli   \n",
       "2   2.0 L/184 a.g./Dizel  168 636 km         Avtomat      Ön  Xeyr   \n",
       "3  1.5 L/181 a.g./Benzin  120 873 km         Avtomat      Ön  Xeyr   \n",
       "4  2.0 L/173 a.g./Benzin        0 km         Avtomat      Ön  Bəli   \n",
       "\n",
       "                     Vəziyyəti  \\\n",
       "0     Vuruğu yoxdur, rənglənib   \n",
       "1  Vuruğu yoxdur, rənglənməyib   \n",
       "2  Vuruğu yoxdur, rənglənməyib   \n",
       "3  Vuruğu yoxdur, rənglənməyib   \n",
       "4  Vuruğu yoxdur, rənglənməyib   \n",
       "\n",
       "                                               Extra Hansı bazar üçün yığılıb  \\\n",
       "0  Yüngül lehimli disklər, ABS, Kondisioner, Dəri...                   Avropa   \n",
       "1  Yüngül lehimli disklər, ABS, Yağış sensoru, Mə...              Rəsmi diler   \n",
       "2  Yüngül lehimli disklər, ABS, Lyuk, Yağış senso...                   Avropa   \n",
       "3  Yüngül lehimli disklər, ABS, Yağış sensoru, Mə...                      NaN   \n",
       "4  Yüngül lehimli disklər, ABS, Yağış sensoru, Mə...                      NaN   \n",
       "\n",
       "  Yerlərin sayı Qəzalı  \n",
       "0             5    NaN  \n",
       "1             5    NaN  \n",
       "2             7    NaN  \n",
       "3           NaN    NaN  \n",
       "4             5    NaN  "
      ]
     },
     "execution_count": 28,
     "metadata": {},
     "output_type": "execute_result"
    }
   ],
   "source": [
    "data.head()"
   ]
  },
  {
   "cell_type": "code",
   "execution_count": 30,
   "id": "b5c1cac6-2d4e-4963-97da-af9769343f65",
   "metadata": {},
   "outputs": [
    {
     "data": {
      "text/plain": [
       "Qiymet                       int64\n",
       "Valyuta                     object\n",
       "Marka                       object\n",
       "Model                       object\n",
       "Buraxılış ili                int64\n",
       "Ban növü                    object\n",
       "Rəng                        object\n",
       "Mühərrik                    object\n",
       "Yürüş                       object\n",
       "Sürətlər qutusu             object\n",
       "Ötürücü                     object\n",
       "Yeni                        object\n",
       "Vəziyyəti                   object\n",
       "Extra                       object\n",
       "Hansı bazar üçün yığılıb    object\n",
       "Yerlərin sayı               object\n",
       "Qəzalı                      object\n",
       "dtype: object"
      ]
     },
     "execution_count": 30,
     "metadata": {},
     "output_type": "execute_result"
    }
   ],
   "source": [
    "data.dtypes"
   ]
  },
  {
   "cell_type": "code",
   "execution_count": 32,
   "id": "58a9d878-bcfd-4aaa-bf0d-355fc7971032",
   "metadata": {},
   "outputs": [],
   "source": [
    "data['Yürüş'] = data['Yürüş'].str.replace('km', \"\")"
   ]
  },
  {
   "cell_type": "code",
   "execution_count": 34,
   "id": "3510fcf1-0319-46a3-a999-cb135d2cedcc",
   "metadata": {},
   "outputs": [],
   "source": [
    "data['Yürüş'] = data['Yürüş'].str.replace(' ', \"\")"
   ]
  },
  {
   "cell_type": "code",
   "execution_count": 36,
   "id": "b662d504-54ea-4eb3-bb83-9ccb7d7dd203",
   "metadata": {},
   "outputs": [
    {
     "data": {
      "text/plain": [
       "0    370000\n",
       "1         0\n",
       "2    168636\n",
       "3    120873\n",
       "4         0\n",
       "Name: Yürüş, dtype: object"
      ]
     },
     "execution_count": 36,
     "metadata": {},
     "output_type": "execute_result"
    }
   ],
   "source": [
    "data['Yürüş'].head()"
   ]
  },
  {
   "cell_type": "code",
   "execution_count": 38,
   "id": "b4b75d24-4d7b-44bc-9067-a9d31567c7f7",
   "metadata": {},
   "outputs": [],
   "source": [
    "data['Yürüş'] = data['Yürüş'].astype(int)"
   ]
  },
  {
   "cell_type": "code",
   "execution_count": 40,
   "id": "c3491826-2b69-46e7-8f02-3a4158a250e7",
   "metadata": {},
   "outputs": [
    {
     "data": {
      "text/plain": [
       "array(['5', '7', nan, '4', '3', '2', '8+', '1', '6'], dtype=object)"
      ]
     },
     "execution_count": 40,
     "metadata": {},
     "output_type": "execute_result"
    }
   ],
   "source": [
    "data['Yerlərin sayı'].unique()"
   ]
  },
  {
   "cell_type": "code",
   "execution_count": 42,
   "id": "9f58be29-fec4-4156-8fd5-aa63dc64efab",
   "metadata": {},
   "outputs": [],
   "source": [
    "data['Yerlərin sayı'] = data['Yerlərin sayı'].str.replace('8+', '9')"
   ]
  },
  {
   "cell_type": "code",
   "execution_count": 44,
   "id": "b362c9d8-1c70-4e0e-af85-0639e011b3b7",
   "metadata": {},
   "outputs": [],
   "source": [
    "from sklearn.impute import SimpleImputer"
   ]
  },
  {
   "cell_type": "code",
   "execution_count": 45,
   "id": "80572caf-790e-495b-a8a1-8831ebfe86b6",
   "metadata": {},
   "outputs": [],
   "source": [
    "imputer = SimpleImputer(strategy='most_frequent')\n",
    "data['Yerlərin sayı'] = imputer.fit_transform(data[['Yerlərin sayı']]).ravel() "
   ]
  },
  {
   "cell_type": "code",
   "execution_count": 48,
   "id": "64170557-227c-4950-9100-1c1547a6625a",
   "metadata": {},
   "outputs": [
    {
     "data": {
      "text/plain": [
       "array(['5', '7', '4', '3', '2', '9', '1', '6'], dtype=object)"
      ]
     },
     "execution_count": 48,
     "metadata": {},
     "output_type": "execute_result"
    }
   ],
   "source": [
    "data['Yerlərin sayı'].unique()"
   ]
  },
  {
   "cell_type": "code",
   "execution_count": 50,
   "id": "b09376e0-8f6c-418a-968c-5dbe56f0288a",
   "metadata": {},
   "outputs": [],
   "source": [
    "data['Yerlərin sayı'] = data['Yerlərin sayı'].astype(int)"
   ]
  },
  {
   "cell_type": "code",
   "execution_count": 52,
   "id": "7068acd3-522d-4b4a-b6ec-61435a4d37c8",
   "metadata": {},
   "outputs": [
    {
     "data": {
      "text/plain": [
       "array([nan, 'Bəli'], dtype=object)"
      ]
     },
     "execution_count": 52,
     "metadata": {},
     "output_type": "execute_result"
    }
   ],
   "source": [
    "data['Qəzalı'].unique()"
   ]
  },
  {
   "cell_type": "code",
   "execution_count": 54,
   "id": "784b9dc1-934d-4b2b-8e56-8ff4e2baa3e2",
   "metadata": {},
   "outputs": [
    {
     "data": {
      "text/plain": [
       "0.9968"
      ]
     },
     "execution_count": 54,
     "metadata": {},
     "output_type": "execute_result"
    }
   ],
   "source": [
    "data['Qəzalı'].isnull().mean()"
   ]
  },
  {
   "cell_type": "code",
   "execution_count": 56,
   "id": "d1ef410a-059f-4088-8d39-f4c5a3ab8e17",
   "metadata": {},
   "outputs": [],
   "source": [
    "data = data.drop('Qəzalı', axis = 'columns')"
   ]
  },
  {
   "cell_type": "code",
   "execution_count": 58,
   "id": "8db88838-2548-47bf-b5b6-99a88945b528",
   "metadata": {},
   "outputs": [
    {
     "data": {
      "text/plain": [
       "Qiymet                       int64\n",
       "Valyuta                     object\n",
       "Marka                       object\n",
       "Model                       object\n",
       "Buraxılış ili                int64\n",
       "Ban növü                    object\n",
       "Rəng                        object\n",
       "Mühərrik                    object\n",
       "Yürüş                        int32\n",
       "Sürətlər qutusu             object\n",
       "Ötürücü                     object\n",
       "Yeni                        object\n",
       "Vəziyyəti                   object\n",
       "Extra                       object\n",
       "Hansı bazar üçün yığılıb    object\n",
       "Yerlərin sayı                int32\n",
       "dtype: object"
      ]
     },
     "execution_count": 58,
     "metadata": {},
     "output_type": "execute_result"
    }
   ],
   "source": [
    "data.dtypes"
   ]
  },
  {
   "cell_type": "code",
   "execution_count": 60,
   "id": "b95c0bee-b603-487e-9d84-2226b53a977c",
   "metadata": {},
   "outputs": [],
   "source": [
    "data[['Muherrik_hecmi', 'At_gucu', 'Yanacaq']] = data['Mühərrik'].str.split('/', expand=True)"
   ]
  },
  {
   "cell_type": "code",
   "execution_count": 62,
   "id": "3787dab2-eb62-48c8-893d-76411d8929f2",
   "metadata": {},
   "outputs": [],
   "source": [
    "data[['Vuruq', 'Reng']] = data['Vəziyyəti'].str.split(',', expand=True)"
   ]
  },
  {
   "cell_type": "code",
   "execution_count": 64,
   "id": "41199993-5400-4685-94a7-078c50e3a4eb",
   "metadata": {},
   "outputs": [],
   "source": [
    "data = data.drop('Mühərrik' , axis = 'columns')"
   ]
  },
  {
   "cell_type": "code",
   "execution_count": 66,
   "id": "8e7d4c4c-6cfe-4fdb-9f50-1dc1326c695a",
   "metadata": {},
   "outputs": [],
   "source": [
    "data = data.drop('Vəziyyəti', axis = 'columns')"
   ]
  },
  {
   "cell_type": "code",
   "execution_count": 68,
   "id": "3df9cc5c-d5a3-477a-997b-2dd6cca9f44b",
   "metadata": {},
   "outputs": [
    {
     "data": {
      "text/html": [
       "<div>\n",
       "<style scoped>\n",
       "    .dataframe tbody tr th:only-of-type {\n",
       "        vertical-align: middle;\n",
       "    }\n",
       "\n",
       "    .dataframe tbody tr th {\n",
       "        vertical-align: top;\n",
       "    }\n",
       "\n",
       "    .dataframe thead th {\n",
       "        text-align: right;\n",
       "    }\n",
       "</style>\n",
       "<table border=\"1\" class=\"dataframe\">\n",
       "  <thead>\n",
       "    <tr style=\"text-align: right;\">\n",
       "      <th></th>\n",
       "      <th>Qiymet</th>\n",
       "      <th>Valyuta</th>\n",
       "      <th>Marka</th>\n",
       "      <th>Model</th>\n",
       "      <th>Buraxılış ili</th>\n",
       "      <th>Ban növü</th>\n",
       "      <th>Rəng</th>\n",
       "      <th>Yürüş</th>\n",
       "      <th>Sürətlər qutusu</th>\n",
       "      <th>Ötürücü</th>\n",
       "      <th>Yeni</th>\n",
       "      <th>Extra</th>\n",
       "      <th>Hansı bazar üçün yığılıb</th>\n",
       "      <th>Yerlərin sayı</th>\n",
       "      <th>Muherrik_hecmi</th>\n",
       "      <th>At_gucu</th>\n",
       "      <th>Yanacaq</th>\n",
       "      <th>Vuruq</th>\n",
       "      <th>Reng</th>\n",
       "    </tr>\n",
       "  </thead>\n",
       "  <tbody>\n",
       "    <tr>\n",
       "      <th>0</th>\n",
       "      <td>13500</td>\n",
       "      <td>AZN</td>\n",
       "      <td>Opel</td>\n",
       "      <td>Vectra</td>\n",
       "      <td>2000</td>\n",
       "      <td>Hetçbek</td>\n",
       "      <td>Göy</td>\n",
       "      <td>370000</td>\n",
       "      <td>Mexaniki</td>\n",
       "      <td>Ön</td>\n",
       "      <td>Xeyr</td>\n",
       "      <td>Yüngül lehimli disklər, ABS, Kondisioner, Dəri...</td>\n",
       "      <td>Avropa</td>\n",
       "      <td>5</td>\n",
       "      <td>1.6 L</td>\n",
       "      <td>101 a.g.</td>\n",
       "      <td>Benzin</td>\n",
       "      <td>Vuruğu yoxdur</td>\n",
       "      <td>rənglənib</td>\n",
       "    </tr>\n",
       "    <tr>\n",
       "      <th>1</th>\n",
       "      <td>23500</td>\n",
       "      <td>USD</td>\n",
       "      <td>Toyota</td>\n",
       "      <td>Corolla</td>\n",
       "      <td>2023</td>\n",
       "      <td>Sedan</td>\n",
       "      <td>Mavi</td>\n",
       "      <td>0</td>\n",
       "      <td>Avtomat</td>\n",
       "      <td>Ön</td>\n",
       "      <td>Bəli</td>\n",
       "      <td>Yüngül lehimli disklər, ABS, Yağış sensoru, Mə...</td>\n",
       "      <td>Rəsmi diler</td>\n",
       "      <td>5</td>\n",
       "      <td>1.8 L</td>\n",
       "      <td>178 a.g.</td>\n",
       "      <td>Hibrid</td>\n",
       "      <td>Vuruğu yoxdur</td>\n",
       "      <td>rənglənməyib</td>\n",
       "    </tr>\n",
       "    <tr>\n",
       "      <th>2</th>\n",
       "      <td>33200</td>\n",
       "      <td>AZN</td>\n",
       "      <td>Hyundai</td>\n",
       "      <td>Santa Fe</td>\n",
       "      <td>2013</td>\n",
       "      <td>Offroader / SUV</td>\n",
       "      <td>Qara</td>\n",
       "      <td>168636</td>\n",
       "      <td>Avtomat</td>\n",
       "      <td>Ön</td>\n",
       "      <td>Xeyr</td>\n",
       "      <td>Yüngül lehimli disklər, ABS, Lyuk, Yağış senso...</td>\n",
       "      <td>Avropa</td>\n",
       "      <td>7</td>\n",
       "      <td>2.0 L</td>\n",
       "      <td>184 a.g.</td>\n",
       "      <td>Dizel</td>\n",
       "      <td>Vuruğu yoxdur</td>\n",
       "      <td>rənglənməyib</td>\n",
       "    </tr>\n",
       "    <tr>\n",
       "      <th>3</th>\n",
       "      <td>17000</td>\n",
       "      <td>AZN</td>\n",
       "      <td>Ford</td>\n",
       "      <td>Fusion</td>\n",
       "      <td>2015</td>\n",
       "      <td>Sedan</td>\n",
       "      <td>Göy</td>\n",
       "      <td>120873</td>\n",
       "      <td>Avtomat</td>\n",
       "      <td>Ön</td>\n",
       "      <td>Xeyr</td>\n",
       "      <td>Yüngül lehimli disklər, ABS, Yağış sensoru, Mə...</td>\n",
       "      <td>NaN</td>\n",
       "      <td>5</td>\n",
       "      <td>1.5 L</td>\n",
       "      <td>181 a.g.</td>\n",
       "      <td>Benzin</td>\n",
       "      <td>Vuruğu yoxdur</td>\n",
       "      <td>rənglənməyib</td>\n",
       "    </tr>\n",
       "    <tr>\n",
       "      <th>4</th>\n",
       "      <td>36000</td>\n",
       "      <td>USD</td>\n",
       "      <td>Toyota</td>\n",
       "      <td>RAV4</td>\n",
       "      <td>2022</td>\n",
       "      <td>Offroader / SUV</td>\n",
       "      <td>Qara</td>\n",
       "      <td>0</td>\n",
       "      <td>Avtomat</td>\n",
       "      <td>Ön</td>\n",
       "      <td>Bəli</td>\n",
       "      <td>Yüngül lehimli disklər, ABS, Yağış sensoru, Mə...</td>\n",
       "      <td>NaN</td>\n",
       "      <td>5</td>\n",
       "      <td>2.0 L</td>\n",
       "      <td>173 a.g.</td>\n",
       "      <td>Benzin</td>\n",
       "      <td>Vuruğu yoxdur</td>\n",
       "      <td>rənglənməyib</td>\n",
       "    </tr>\n",
       "  </tbody>\n",
       "</table>\n",
       "</div>"
      ],
      "text/plain": [
       "   Qiymet Valyuta    Marka     Model  Buraxılış ili         Ban növü  Rəng  \\\n",
       "0   13500     AZN     Opel    Vectra           2000          Hetçbek   Göy   \n",
       "1   23500     USD   Toyota   Corolla           2023            Sedan  Mavi   \n",
       "2   33200     AZN  Hyundai  Santa Fe           2013  Offroader / SUV  Qara   \n",
       "3   17000     AZN     Ford    Fusion           2015            Sedan   Göy   \n",
       "4   36000     USD   Toyota      RAV4           2022  Offroader / SUV  Qara   \n",
       "\n",
       "    Yürüş Sürətlər qutusu Ötürücü  Yeni  \\\n",
       "0  370000        Mexaniki      Ön  Xeyr   \n",
       "1       0         Avtomat      Ön  Bəli   \n",
       "2  168636         Avtomat      Ön  Xeyr   \n",
       "3  120873         Avtomat      Ön  Xeyr   \n",
       "4       0         Avtomat      Ön  Bəli   \n",
       "\n",
       "                                               Extra Hansı bazar üçün yığılıb  \\\n",
       "0  Yüngül lehimli disklər, ABS, Kondisioner, Dəri...                   Avropa   \n",
       "1  Yüngül lehimli disklər, ABS, Yağış sensoru, Mə...              Rəsmi diler   \n",
       "2  Yüngül lehimli disklər, ABS, Lyuk, Yağış senso...                   Avropa   \n",
       "3  Yüngül lehimli disklər, ABS, Yağış sensoru, Mə...                      NaN   \n",
       "4  Yüngül lehimli disklər, ABS, Yağış sensoru, Mə...                      NaN   \n",
       "\n",
       "   Yerlərin sayı Muherrik_hecmi   At_gucu Yanacaq          Vuruq  \\\n",
       "0              5          1.6 L  101 a.g.  Benzin  Vuruğu yoxdur   \n",
       "1              5          1.8 L  178 a.g.  Hibrid  Vuruğu yoxdur   \n",
       "2              7          2.0 L  184 a.g.   Dizel  Vuruğu yoxdur   \n",
       "3              5          1.5 L  181 a.g.  Benzin  Vuruğu yoxdur   \n",
       "4              5          2.0 L  173 a.g.  Benzin  Vuruğu yoxdur   \n",
       "\n",
       "            Reng  \n",
       "0      rənglənib  \n",
       "1   rənglənməyib  \n",
       "2   rənglənməyib  \n",
       "3   rənglənməyib  \n",
       "4   rənglənməyib  "
      ]
     },
     "execution_count": 68,
     "metadata": {},
     "output_type": "execute_result"
    }
   ],
   "source": [
    "data.head()"
   ]
  },
  {
   "cell_type": "code",
   "execution_count": 127,
   "id": "d84cf556-50e9-4069-9269-4b47475f9796",
   "metadata": {},
   "outputs": [
    {
     "data": {
      "text/plain": [
       "array(['AZN', 'USD', 'EUR'], dtype=object)"
      ]
     },
     "execution_count": 127,
     "metadata": {},
     "output_type": "execute_result"
    }
   ],
   "source": [
    "data['Valyuta'].unique()"
   ]
  },
  {
   "cell_type": "code",
   "execution_count": 129,
   "id": "8dc3e439-870b-45a0-9ff0-74b40d3339c1",
   "metadata": {},
   "outputs": [],
   "source": [
    "exchange_rates = {\n",
    "    \"AZN\": 1.0,\n",
    "    \"USD\": 1.7,\n",
    "    \"EUR\": 1.85,\n",
    "}"
   ]
  },
  {
   "cell_type": "code",
   "execution_count": 131,
   "id": "882d54fb-fd8d-4ef3-a772-a3fcff1a344a",
   "metadata": {},
   "outputs": [],
   "source": [
    "def qiymet_yeni(row):\n",
    "    rate = exchange_rates.get(row['Valyuta'], 1)\n",
    "    return row['Qiymet'] * rate"
   ]
  },
  {
   "cell_type": "code",
   "execution_count": 135,
   "id": "82fef732-f3b0-43a1-b748-4fc137f7bfc3",
   "metadata": {},
   "outputs": [],
   "source": [
    "data['Yekun Qiymet'] = data.apply(qiymet_yeni, axis=1)"
   ]
  },
  {
   "cell_type": "code",
   "execution_count": 137,
   "id": "e30eda2a-b4f2-4410-83de-974f5724a93b",
   "metadata": {},
   "outputs": [
    {
     "data": {
      "text/plain": [
       "0    13500.0\n",
       "1    39950.0\n",
       "2    33200.0\n",
       "3    17000.0\n",
       "4    61200.0\n",
       "Name: Yekun Qiymet, dtype: float64"
      ]
     },
     "execution_count": 137,
     "metadata": {},
     "output_type": "execute_result"
    }
   ],
   "source": [
    "data['Yekun Qiymet'].head()"
   ]
  },
  {
   "cell_type": "code",
   "execution_count": 139,
   "id": "d3760d10-a7ad-4567-a06b-6f00aee423c0",
   "metadata": {},
   "outputs": [
    {
     "data": {
      "text/plain": [
       "0        13500\n",
       "1        39950\n",
       "2        33200\n",
       "3        17000\n",
       "4        61200\n",
       "         ...  \n",
       "9995     38930\n",
       "9996    166600\n",
       "9997      9800\n",
       "9998     17800\n",
       "9999      5000\n",
       "Name: Yekun Qiymet, Length: 10000, dtype: int32"
      ]
     },
     "execution_count": 139,
     "metadata": {},
     "output_type": "execute_result"
    }
   ],
   "source": [
    "data['Yekun Qiymet'].astype(int)"
   ]
  },
  {
   "cell_type": "code",
   "execution_count": 143,
   "id": "93ad8d90-b5dd-4ae5-a57a-6a27bdc58154",
   "metadata": {},
   "outputs": [
    {
     "ename": "KeyError",
     "evalue": "\"['Qiymet'] not found in axis\"",
     "output_type": "error",
     "traceback": [
      "\u001b[1;31m---------------------------------------------------------------------------\u001b[0m",
      "\u001b[1;31mKeyError\u001b[0m                                  Traceback (most recent call last)",
      "Cell \u001b[1;32mIn[143], line 1\u001b[0m\n\u001b[1;32m----> 1\u001b[0m data \u001b[38;5;241m=\u001b[39m data\u001b[38;5;241m.\u001b[39mdrop(\u001b[38;5;124m'\u001b[39m\u001b[38;5;124mQiymet\u001b[39m\u001b[38;5;124m'\u001b[39m, axis \u001b[38;5;241m=\u001b[39m \u001b[38;5;124m'\u001b[39m\u001b[38;5;124mcolumns\u001b[39m\u001b[38;5;124m'\u001b[39m)\n",
      "File \u001b[1;32m~\\anaconda3\\Lib\\site-packages\\pandas\\core\\frame.py:5581\u001b[0m, in \u001b[0;36mDataFrame.drop\u001b[1;34m(self, labels, axis, index, columns, level, inplace, errors)\u001b[0m\n\u001b[0;32m   5433\u001b[0m \u001b[38;5;28;01mdef\u001b[39;00m \u001b[38;5;21mdrop\u001b[39m(\n\u001b[0;32m   5434\u001b[0m     \u001b[38;5;28mself\u001b[39m,\n\u001b[0;32m   5435\u001b[0m     labels: IndexLabel \u001b[38;5;241m|\u001b[39m \u001b[38;5;28;01mNone\u001b[39;00m \u001b[38;5;241m=\u001b[39m \u001b[38;5;28;01mNone\u001b[39;00m,\n\u001b[1;32m   (...)\u001b[0m\n\u001b[0;32m   5442\u001b[0m     errors: IgnoreRaise \u001b[38;5;241m=\u001b[39m \u001b[38;5;124m\"\u001b[39m\u001b[38;5;124mraise\u001b[39m\u001b[38;5;124m\"\u001b[39m,\n\u001b[0;32m   5443\u001b[0m ) \u001b[38;5;241m-\u001b[39m\u001b[38;5;241m>\u001b[39m DataFrame \u001b[38;5;241m|\u001b[39m \u001b[38;5;28;01mNone\u001b[39;00m:\n\u001b[0;32m   5444\u001b[0m \u001b[38;5;250m    \u001b[39m\u001b[38;5;124;03m\"\"\"\u001b[39;00m\n\u001b[0;32m   5445\u001b[0m \u001b[38;5;124;03m    Drop specified labels from rows or columns.\u001b[39;00m\n\u001b[0;32m   5446\u001b[0m \n\u001b[1;32m   (...)\u001b[0m\n\u001b[0;32m   5579\u001b[0m \u001b[38;5;124;03m            weight  1.0     0.8\u001b[39;00m\n\u001b[0;32m   5580\u001b[0m \u001b[38;5;124;03m    \"\"\"\u001b[39;00m\n\u001b[1;32m-> 5581\u001b[0m     \u001b[38;5;28;01mreturn\u001b[39;00m \u001b[38;5;28msuper\u001b[39m()\u001b[38;5;241m.\u001b[39mdrop(\n\u001b[0;32m   5582\u001b[0m         labels\u001b[38;5;241m=\u001b[39mlabels,\n\u001b[0;32m   5583\u001b[0m         axis\u001b[38;5;241m=\u001b[39maxis,\n\u001b[0;32m   5584\u001b[0m         index\u001b[38;5;241m=\u001b[39mindex,\n\u001b[0;32m   5585\u001b[0m         columns\u001b[38;5;241m=\u001b[39mcolumns,\n\u001b[0;32m   5586\u001b[0m         level\u001b[38;5;241m=\u001b[39mlevel,\n\u001b[0;32m   5587\u001b[0m         inplace\u001b[38;5;241m=\u001b[39minplace,\n\u001b[0;32m   5588\u001b[0m         errors\u001b[38;5;241m=\u001b[39merrors,\n\u001b[0;32m   5589\u001b[0m     )\n",
      "File \u001b[1;32m~\\anaconda3\\Lib\\site-packages\\pandas\\core\\generic.py:4788\u001b[0m, in \u001b[0;36mNDFrame.drop\u001b[1;34m(self, labels, axis, index, columns, level, inplace, errors)\u001b[0m\n\u001b[0;32m   4786\u001b[0m \u001b[38;5;28;01mfor\u001b[39;00m axis, labels \u001b[38;5;129;01min\u001b[39;00m axes\u001b[38;5;241m.\u001b[39mitems():\n\u001b[0;32m   4787\u001b[0m     \u001b[38;5;28;01mif\u001b[39;00m labels \u001b[38;5;129;01mis\u001b[39;00m \u001b[38;5;129;01mnot\u001b[39;00m \u001b[38;5;28;01mNone\u001b[39;00m:\n\u001b[1;32m-> 4788\u001b[0m         obj \u001b[38;5;241m=\u001b[39m obj\u001b[38;5;241m.\u001b[39m_drop_axis(labels, axis, level\u001b[38;5;241m=\u001b[39mlevel, errors\u001b[38;5;241m=\u001b[39merrors)\n\u001b[0;32m   4790\u001b[0m \u001b[38;5;28;01mif\u001b[39;00m inplace:\n\u001b[0;32m   4791\u001b[0m     \u001b[38;5;28mself\u001b[39m\u001b[38;5;241m.\u001b[39m_update_inplace(obj)\n",
      "File \u001b[1;32m~\\anaconda3\\Lib\\site-packages\\pandas\\core\\generic.py:4830\u001b[0m, in \u001b[0;36mNDFrame._drop_axis\u001b[1;34m(self, labels, axis, level, errors, only_slice)\u001b[0m\n\u001b[0;32m   4828\u001b[0m         new_axis \u001b[38;5;241m=\u001b[39m axis\u001b[38;5;241m.\u001b[39mdrop(labels, level\u001b[38;5;241m=\u001b[39mlevel, errors\u001b[38;5;241m=\u001b[39merrors)\n\u001b[0;32m   4829\u001b[0m     \u001b[38;5;28;01melse\u001b[39;00m:\n\u001b[1;32m-> 4830\u001b[0m         new_axis \u001b[38;5;241m=\u001b[39m axis\u001b[38;5;241m.\u001b[39mdrop(labels, errors\u001b[38;5;241m=\u001b[39merrors)\n\u001b[0;32m   4831\u001b[0m     indexer \u001b[38;5;241m=\u001b[39m axis\u001b[38;5;241m.\u001b[39mget_indexer(new_axis)\n\u001b[0;32m   4833\u001b[0m \u001b[38;5;66;03m# Case for non-unique axis\u001b[39;00m\n\u001b[0;32m   4834\u001b[0m \u001b[38;5;28;01melse\u001b[39;00m:\n",
      "File \u001b[1;32m~\\anaconda3\\Lib\\site-packages\\pandas\\core\\indexes\\base.py:7070\u001b[0m, in \u001b[0;36mIndex.drop\u001b[1;34m(self, labels, errors)\u001b[0m\n\u001b[0;32m   7068\u001b[0m \u001b[38;5;28;01mif\u001b[39;00m mask\u001b[38;5;241m.\u001b[39many():\n\u001b[0;32m   7069\u001b[0m     \u001b[38;5;28;01mif\u001b[39;00m errors \u001b[38;5;241m!=\u001b[39m \u001b[38;5;124m\"\u001b[39m\u001b[38;5;124mignore\u001b[39m\u001b[38;5;124m\"\u001b[39m:\n\u001b[1;32m-> 7070\u001b[0m         \u001b[38;5;28;01mraise\u001b[39;00m \u001b[38;5;167;01mKeyError\u001b[39;00m(\u001b[38;5;124mf\u001b[39m\u001b[38;5;124m\"\u001b[39m\u001b[38;5;132;01m{\u001b[39;00mlabels[mask]\u001b[38;5;241m.\u001b[39mtolist()\u001b[38;5;132;01m}\u001b[39;00m\u001b[38;5;124m not found in axis\u001b[39m\u001b[38;5;124m\"\u001b[39m)\n\u001b[0;32m   7071\u001b[0m     indexer \u001b[38;5;241m=\u001b[39m indexer[\u001b[38;5;241m~\u001b[39mmask]\n\u001b[0;32m   7072\u001b[0m \u001b[38;5;28;01mreturn\u001b[39;00m \u001b[38;5;28mself\u001b[39m\u001b[38;5;241m.\u001b[39mdelete(indexer)\n",
      "\u001b[1;31mKeyError\u001b[0m: \"['Qiymet'] not found in axis\""
     ]
    }
   ],
   "source": [
    "data = data.drop('Qiymet', axis = 'columns')"
   ]
  },
  {
   "cell_type": "code",
   "execution_count": 145,
   "id": "c4582f12-6ef1-46eb-aa9e-0472a92fac43",
   "metadata": {},
   "outputs": [],
   "source": [
    "data = data.drop('Valyuta', axis = 'columns')"
   ]
  },
  {
   "cell_type": "code",
   "execution_count": 76,
   "id": "020eefea-ac05-4d7a-823f-b13eff70ac01",
   "metadata": {},
   "outputs": [
    {
     "data": {
      "text/plain": [
       "array(['Yüngül lehimli disklər, ABS, Kondisioner, Dəri salon, Ksenon lampalar, Yan pərdələr',\n",
       "       'Yüngül lehimli disklər, ABS, Yağış sensoru, Mərkəzi qapanma, Park radarı, Kondisioner, Oturacaqların isidilməsi, Ksenon lampalar, Arxa görüntü kamerası, Yan pərdələr, Oturacaqların ventilyasiyası',\n",
       "       'Yüngül lehimli disklər, ABS, Lyuk, Yağış sensoru, Mərkəzi qapanma, Park radarı, Kondisioner, Oturacaqların isidilməsi, Dəri salon, Ksenon lampalar, Arxa görüntü kamerası, Yan pərdələr, Oturacaqların ventilyasiyası',\n",
       "       ...,\n",
       "       'ABS, Yağış sensoru, Kondisioner, Oturacaqların isidilməsi, Dəri salon',\n",
       "       'Yüngül lehimli disklər, ABS, Mərkəzi qapanma, Park radarı, Kondisioner, Dəri salon, Arxa görüntü kamerası, Yan pərdələr, Oturacaqların ventilyasiyası',\n",
       "       'Yüngül lehimli disklər, ABS, Lyuk, Mərkəzi qapanma, Kondisioner, Dəri salon, Ksenon lampalar, Yan pərdələr, Oturacaqların ventilyasiyası'],\n",
       "      dtype=object)"
      ]
     },
     "execution_count": 76,
     "metadata": {},
     "output_type": "execute_result"
    }
   ],
   "source": [
    "data['Extra'].unique()"
   ]
  },
  {
   "cell_type": "code",
   "execution_count": 78,
   "id": "d2122025-fc6d-49d2-8c7e-8851327a9587",
   "metadata": {},
   "outputs": [],
   "source": [
    "# data[\"split_columns\"] = data[\"Extra\"].str.split(\",\", expand=True)"
   ]
  },
  {
   "cell_type": "code",
   "execution_count": 80,
   "id": "0e95d75f-958a-4688-ac3a-39886b8ffa4f",
   "metadata": {},
   "outputs": [],
   "source": [
    "# split_columns.columns = [\"Yüngül lehimli disklər\", \"ABS\", \"Kondisioner\", \"Dəri salon\", \"Ksenon lampalar\", \"Yan pərdələr\", \"Yağış sensoru\", \"Mərkəzi qapanma\", \"Park radarı\", \"Oturacaqların isidilməsi\", \"Arxa görüntü kamerası\", \"Oturacaqların ventilyasiyası\", \"Lyuk\"]"
   ]
  },
  {
   "cell_type": "code",
   "execution_count": 91,
   "id": "2b8a7f6a-69de-47c1-b1ec-0c2970d6a792",
   "metadata": {},
   "outputs": [
    {
     "data": {
      "text/plain": [
       "764"
      ]
     },
     "execution_count": 91,
     "metadata": {},
     "output_type": "execute_result"
    }
   ],
   "source": [
    "data['Extra'].isnull().sum()"
   ]
  },
  {
   "cell_type": "code",
   "execution_count": 93,
   "id": "bdc6078d-00f3-4680-89df-582b33508b4f",
   "metadata": {},
   "outputs": [],
   "source": [
    "imputer = SimpleImputer(strategy='most_frequent')\n",
    "data['Extra'] = imputer.fit_transform(data[['Extra']]).ravel() "
   ]
  },
  {
   "cell_type": "code",
   "execution_count": 97,
   "id": "14b63234-3376-4bc0-94dc-abdfaaedfbf5",
   "metadata": {},
   "outputs": [
    {
     "data": {
      "text/plain": [
       "0"
      ]
     },
     "execution_count": 97,
     "metadata": {},
     "output_type": "execute_result"
    }
   ],
   "source": [
    "data['Extra'].isnull().sum()"
   ]
  },
  {
   "cell_type": "code",
   "execution_count": 99,
   "id": "c204b942-d6a0-428e-bf23-374cd35a3da9",
   "metadata": {},
   "outputs": [],
   "source": [
    "yeni_extra = set()"
   ]
  },
  {
   "cell_type": "code",
   "execution_count": 101,
   "id": "ce313928-81fa-444d-85ed-17fdeace9f24",
   "metadata": {},
   "outputs": [
    {
     "data": {
      "text/plain": [
       "0       None\n",
       "1       None\n",
       "2       None\n",
       "3       None\n",
       "4       None\n",
       "        ... \n",
       "9995    None\n",
       "9996    None\n",
       "9997    None\n",
       "9998    None\n",
       "9999    None\n",
       "Name: Extra, Length: 10000, dtype: object"
      ]
     },
     "execution_count": 101,
     "metadata": {},
     "output_type": "execute_result"
    }
   ],
   "source": [
    "data['Extra'].str.split(',').apply(yeni_extra.update)"
   ]
  },
  {
   "cell_type": "code",
   "execution_count": 105,
   "id": "6ff01628-7b5c-4594-b8a7-3deda7c7f1a1",
   "metadata": {},
   "outputs": [],
   "source": [
    "for Extra in yeni_extra:\n",
    "    data[Extra] = data['Extra'].str.contains(Extra).astype(int)"
   ]
  },
  {
   "cell_type": "code",
   "execution_count": 109,
   "id": "e64cea0f-53d7-4374-9492-d357cd4607f8",
   "metadata": {},
   "outputs": [
    {
     "name": "stdout",
     "output_type": "stream",
     "text": [
      "0       1\n",
      "1       0\n",
      "2       1\n",
      "3       0\n",
      "4       1\n",
      "       ..\n",
      "9995    1\n",
      "9996    1\n",
      "9997    0\n",
      "9998    1\n",
      "9999    0\n",
      "Name: Dəri salon, Length: 10000, dtype: int32\n"
     ]
    }
   ],
   "source": [
    "print(data[Extra])"
   ]
  },
  {
   "cell_type": "code",
   "execution_count": 111,
   "id": "7944a7bb-1f28-42d3-9955-d298dc2adc7f",
   "metadata": {},
   "outputs": [
    {
     "data": {
      "text/plain": [
       "Qiymet                              0\n",
       "Valyuta                             0\n",
       "Marka                               0\n",
       "Model                               0\n",
       "Buraxılış ili                       0\n",
       "Ban növü                            0\n",
       "Rəng                                0\n",
       "Yürüş                               0\n",
       "Sürətlər qutusu                     0\n",
       "Ötürücü                             0\n",
       "Yeni                                0\n",
       "Extra                               0\n",
       "Hansı bazar üçün yığılıb         3298\n",
       "Yerlərin sayı                       0\n",
       "Muherrik_hecmi                      0\n",
       "At_gucu                             0\n",
       "Yanacaq                             0\n",
       "Vuruq                              28\n",
       "Reng                               28\n",
       "Ksenon lampalar                     0\n",
       "Lyuk                                0\n",
       " Lyuk                               0\n",
       " Kondisioner                        0\n",
       " ABS                                0\n",
       " Oturacaqların isidilməsi           0\n",
       " Arxa görüntü kamerası              0\n",
       " Park radarı                        0\n",
       " Oturacaqların ventilyasiyası       0\n",
       " Dəri salon                         0\n",
       " Yağış sensoru                      0\n",
       "Mərkəzi qapanma                     0\n",
       "Yan pərdələr                        0\n",
       "Arxa görüntü kamerası               0\n",
       "Oturacaqların isidilməsi            0\n",
       "ABS                                 0\n",
       " Mərkəzi qapanma                    0\n",
       " Yan pərdələr                       0\n",
       "Kondisioner                         0\n",
       "Yüngül lehimli disklər              0\n",
       "Yağış sensoru                       0\n",
       "Park radarı                         0\n",
       "Oturacaqların ventilyasiyası        0\n",
       " Ksenon lampalar                    0\n",
       "Dəri salon                          0\n",
       "dtype: int64"
      ]
     },
     "execution_count": 111,
     "metadata": {},
     "output_type": "execute_result"
    }
   ],
   "source": [
    "data.isnull().sum()"
   ]
  },
  {
   "cell_type": "code",
   "execution_count": 117,
   "id": "0030f3cd-1641-42b3-b17e-152cee2004dd",
   "metadata": {},
   "outputs": [
    {
     "data": {
      "text/plain": [
       "0.0"
      ]
     },
     "execution_count": 117,
     "metadata": {},
     "output_type": "execute_result"
    }
   ],
   "source": [
    "data['Hansı bazar üçün yığılıb'].isnull().mean()"
   ]
  },
  {
   "cell_type": "code",
   "execution_count": 119,
   "id": "25e65243-52ba-4a0c-86ee-588a1538cf78",
   "metadata": {},
   "outputs": [],
   "source": [
    "imputer = SimpleImputer(strategy='most_frequent')\n",
    "data['Hansı bazar üçün yığılıb'] = imputer.fit_transform(data[['Hansı bazar üçün yığılıb']]).ravel() "
   ]
  },
  {
   "cell_type": "code",
   "execution_count": 121,
   "id": "1c2408b0-9139-4113-9f5d-8d17e706bbf1",
   "metadata": {},
   "outputs": [],
   "source": [
    "imputer = SimpleImputer(strategy='most_frequent')\n",
    "data['Vuruq'] = imputer.fit_transform(data[['Vuruq']]).ravel() "
   ]
  },
  {
   "cell_type": "code",
   "execution_count": 123,
   "id": "5793b5b6-811b-4914-8ad6-e0e1e9f17d7f",
   "metadata": {},
   "outputs": [],
   "source": [
    "imputer = SimpleImputer(strategy='most_frequent')\n",
    "data['Reng'] = imputer.fit_transform(data[['Reng']]).ravel() "
   ]
  },
  {
   "cell_type": "code",
   "execution_count": 125,
   "id": "93493c6f-c78e-4d39-b7e1-a035b06f1f42",
   "metadata": {},
   "outputs": [
    {
     "data": {
      "text/plain": [
       "Qiymet                           0\n",
       "Valyuta                          0\n",
       "Marka                            0\n",
       "Model                            0\n",
       "Buraxılış ili                    0\n",
       "Ban növü                         0\n",
       "Rəng                             0\n",
       "Yürüş                            0\n",
       "Sürətlər qutusu                  0\n",
       "Ötürücü                          0\n",
       "Yeni                             0\n",
       "Extra                            0\n",
       "Hansı bazar üçün yığılıb         0\n",
       "Yerlərin sayı                    0\n",
       "Muherrik_hecmi                   0\n",
       "At_gucu                          0\n",
       "Yanacaq                          0\n",
       "Vuruq                            0\n",
       "Reng                             0\n",
       "Ksenon lampalar                  0\n",
       "Lyuk                             0\n",
       " Lyuk                            0\n",
       " Kondisioner                     0\n",
       " ABS                             0\n",
       " Oturacaqların isidilməsi        0\n",
       " Arxa görüntü kamerası           0\n",
       " Park radarı                     0\n",
       " Oturacaqların ventilyasiyası    0\n",
       " Dəri salon                      0\n",
       " Yağış sensoru                   0\n",
       "Mərkəzi qapanma                  0\n",
       "Yan pərdələr                     0\n",
       "Arxa görüntü kamerası            0\n",
       "Oturacaqların isidilməsi         0\n",
       "ABS                              0\n",
       " Mərkəzi qapanma                 0\n",
       " Yan pərdələr                    0\n",
       "Kondisioner                      0\n",
       "Yüngül lehimli disklər           0\n",
       "Yağış sensoru                    0\n",
       "Park radarı                      0\n",
       "Oturacaqların ventilyasiyası     0\n",
       " Ksenon lampalar                 0\n",
       "Dəri salon                       0\n",
       "dtype: int64"
      ]
     },
     "execution_count": 125,
     "metadata": {},
     "output_type": "execute_result"
    }
   ],
   "source": [
    "data.isnull().sum()"
   ]
  },
  {
   "cell_type": "code",
   "execution_count": 149,
   "id": "8d4b3ea4-052e-4dde-914c-59b978c5b739",
   "metadata": {},
   "outputs": [],
   "source": [
    "data = data.drop('Extra', axis = 'columns')"
   ]
  },
  {
   "cell_type": "code",
   "execution_count": 151,
   "id": "cc4aab14-88e8-454c-8c56-2c3733b1b740",
   "metadata": {},
   "outputs": [
    {
     "data": {
      "text/html": [
       "<div>\n",
       "<style scoped>\n",
       "    .dataframe tbody tr th:only-of-type {\n",
       "        vertical-align: middle;\n",
       "    }\n",
       "\n",
       "    .dataframe tbody tr th {\n",
       "        vertical-align: top;\n",
       "    }\n",
       "\n",
       "    .dataframe thead th {\n",
       "        text-align: right;\n",
       "    }\n",
       "</style>\n",
       "<table border=\"1\" class=\"dataframe\">\n",
       "  <thead>\n",
       "    <tr style=\"text-align: right;\">\n",
       "      <th></th>\n",
       "      <th>Marka</th>\n",
       "      <th>Model</th>\n",
       "      <th>Buraxılış ili</th>\n",
       "      <th>Ban növü</th>\n",
       "      <th>Rəng</th>\n",
       "      <th>Yürüş</th>\n",
       "      <th>Sürətlər qutusu</th>\n",
       "      <th>Ötürücü</th>\n",
       "      <th>Yeni</th>\n",
       "      <th>Hansı bazar üçün yığılıb</th>\n",
       "      <th>...</th>\n",
       "      <th>Mərkəzi qapanma</th>\n",
       "      <th>Yan pərdələr</th>\n",
       "      <th>Kondisioner</th>\n",
       "      <th>Yüngül lehimli disklər</th>\n",
       "      <th>Yağış sensoru</th>\n",
       "      <th>Park radarı</th>\n",
       "      <th>Oturacaqların ventilyasiyası</th>\n",
       "      <th>Ksenon lampalar</th>\n",
       "      <th>Dəri salon</th>\n",
       "      <th>Yekun Qiymet</th>\n",
       "    </tr>\n",
       "  </thead>\n",
       "  <tbody>\n",
       "    <tr>\n",
       "      <th>0</th>\n",
       "      <td>Opel</td>\n",
       "      <td>Vectra</td>\n",
       "      <td>2000</td>\n",
       "      <td>Hetçbek</td>\n",
       "      <td>Göy</td>\n",
       "      <td>370000</td>\n",
       "      <td>Mexaniki</td>\n",
       "      <td>Ön</td>\n",
       "      <td>Xeyr</td>\n",
       "      <td>Avropa</td>\n",
       "      <td>...</td>\n",
       "      <td>0</td>\n",
       "      <td>1</td>\n",
       "      <td>1</td>\n",
       "      <td>1</td>\n",
       "      <td>0</td>\n",
       "      <td>0</td>\n",
       "      <td>0</td>\n",
       "      <td>1</td>\n",
       "      <td>1</td>\n",
       "      <td>13500.0</td>\n",
       "    </tr>\n",
       "    <tr>\n",
       "      <th>1</th>\n",
       "      <td>Toyota</td>\n",
       "      <td>Corolla</td>\n",
       "      <td>2023</td>\n",
       "      <td>Sedan</td>\n",
       "      <td>Mavi</td>\n",
       "      <td>0</td>\n",
       "      <td>Avtomat</td>\n",
       "      <td>Ön</td>\n",
       "      <td>Bəli</td>\n",
       "      <td>Rəsmi diler</td>\n",
       "      <td>...</td>\n",
       "      <td>1</td>\n",
       "      <td>1</td>\n",
       "      <td>1</td>\n",
       "      <td>1</td>\n",
       "      <td>1</td>\n",
       "      <td>1</td>\n",
       "      <td>1</td>\n",
       "      <td>1</td>\n",
       "      <td>0</td>\n",
       "      <td>39950.0</td>\n",
       "    </tr>\n",
       "    <tr>\n",
       "      <th>2</th>\n",
       "      <td>Hyundai</td>\n",
       "      <td>Santa Fe</td>\n",
       "      <td>2013</td>\n",
       "      <td>Offroader / SUV</td>\n",
       "      <td>Qara</td>\n",
       "      <td>168636</td>\n",
       "      <td>Avtomat</td>\n",
       "      <td>Ön</td>\n",
       "      <td>Xeyr</td>\n",
       "      <td>Avropa</td>\n",
       "      <td>...</td>\n",
       "      <td>1</td>\n",
       "      <td>1</td>\n",
       "      <td>1</td>\n",
       "      <td>1</td>\n",
       "      <td>1</td>\n",
       "      <td>1</td>\n",
       "      <td>1</td>\n",
       "      <td>1</td>\n",
       "      <td>1</td>\n",
       "      <td>33200.0</td>\n",
       "    </tr>\n",
       "    <tr>\n",
       "      <th>3</th>\n",
       "      <td>Ford</td>\n",
       "      <td>Fusion</td>\n",
       "      <td>2015</td>\n",
       "      <td>Sedan</td>\n",
       "      <td>Göy</td>\n",
       "      <td>120873</td>\n",
       "      <td>Avtomat</td>\n",
       "      <td>Ön</td>\n",
       "      <td>Xeyr</td>\n",
       "      <td>Avropa</td>\n",
       "      <td>...</td>\n",
       "      <td>1</td>\n",
       "      <td>1</td>\n",
       "      <td>1</td>\n",
       "      <td>1</td>\n",
       "      <td>1</td>\n",
       "      <td>1</td>\n",
       "      <td>0</td>\n",
       "      <td>1</td>\n",
       "      <td>0</td>\n",
       "      <td>17000.0</td>\n",
       "    </tr>\n",
       "    <tr>\n",
       "      <th>4</th>\n",
       "      <td>Toyota</td>\n",
       "      <td>RAV4</td>\n",
       "      <td>2022</td>\n",
       "      <td>Offroader / SUV</td>\n",
       "      <td>Qara</td>\n",
       "      <td>0</td>\n",
       "      <td>Avtomat</td>\n",
       "      <td>Ön</td>\n",
       "      <td>Bəli</td>\n",
       "      <td>Avropa</td>\n",
       "      <td>...</td>\n",
       "      <td>1</td>\n",
       "      <td>0</td>\n",
       "      <td>1</td>\n",
       "      <td>1</td>\n",
       "      <td>1</td>\n",
       "      <td>1</td>\n",
       "      <td>0</td>\n",
       "      <td>1</td>\n",
       "      <td>1</td>\n",
       "      <td>61200.0</td>\n",
       "    </tr>\n",
       "  </tbody>\n",
       "</table>\n",
       "<p>5 rows × 42 columns</p>\n",
       "</div>"
      ],
      "text/plain": [
       "     Marka     Model  Buraxılış ili         Ban növü  Rəng   Yürüş  \\\n",
       "0     Opel    Vectra           2000          Hetçbek   Göy  370000   \n",
       "1   Toyota   Corolla           2023            Sedan  Mavi       0   \n",
       "2  Hyundai  Santa Fe           2013  Offroader / SUV  Qara  168636   \n",
       "3     Ford    Fusion           2015            Sedan   Göy  120873   \n",
       "4   Toyota      RAV4           2022  Offroader / SUV  Qara       0   \n",
       "\n",
       "  Sürətlər qutusu Ötürücü  Yeni Hansı bazar üçün yığılıb  ...  \\\n",
       "0        Mexaniki      Ön  Xeyr                   Avropa  ...   \n",
       "1         Avtomat      Ön  Bəli              Rəsmi diler  ...   \n",
       "2         Avtomat      Ön  Xeyr                   Avropa  ...   \n",
       "3         Avtomat      Ön  Xeyr                   Avropa  ...   \n",
       "4         Avtomat      Ön  Bəli                   Avropa  ...   \n",
       "\n",
       "    Mərkəzi qapanma  Yan pərdələr Kondisioner Yüngül lehimli disklər  \\\n",
       "0                 0             1           1                      1   \n",
       "1                 1             1           1                      1   \n",
       "2                 1             1           1                      1   \n",
       "3                 1             1           1                      1   \n",
       "4                 1             0           1                      1   \n",
       "\n",
       "  Yağış sensoru Park radarı  Oturacaqların ventilyasiyası   Ksenon lampalar  \\\n",
       "0             0           0                             0                 1   \n",
       "1             1           1                             1                 1   \n",
       "2             1           1                             1                 1   \n",
       "3             1           1                             0                 1   \n",
       "4             1           1                             0                 1   \n",
       "\n",
       "   Dəri salon  Yekun Qiymet  \n",
       "0           1       13500.0  \n",
       "1           0       39950.0  \n",
       "2           1       33200.0  \n",
       "3           0       17000.0  \n",
       "4           1       61200.0  \n",
       "\n",
       "[5 rows x 42 columns]"
      ]
     },
     "execution_count": 151,
     "metadata": {},
     "output_type": "execute_result"
    }
   ],
   "source": [
    "data.head()"
   ]
  },
  {
   "cell_type": "code",
   "execution_count": 153,
   "id": "41d8840b-0efc-46e1-acac-4f8381eb5356",
   "metadata": {},
   "outputs": [
    {
     "data": {
      "text/plain": [
       "Index(['Marka', 'Model', 'Buraxılış ili', 'Ban növü', 'Rəng', 'Yürüş',\n",
       "       'Sürətlər qutusu', 'Ötürücü', 'Yeni', 'Hansı bazar üçün yığılıb',\n",
       "       'Yerlərin sayı', 'Muherrik_hecmi', 'At_gucu', 'Yanacaq', 'Vuruq',\n",
       "       'Reng', 'Ksenon lampalar', 'Lyuk', ' Lyuk', ' Kondisioner', ' ABS',\n",
       "       ' Oturacaqların isidilməsi', ' Arxa görüntü kamerası', ' Park radarı',\n",
       "       ' Oturacaqların ventilyasiyası', ' Dəri salon', ' Yağış sensoru',\n",
       "       'Mərkəzi qapanma', 'Yan pərdələr', 'Arxa görüntü kamerası',\n",
       "       'Oturacaqların isidilməsi', 'ABS', ' Mərkəzi qapanma', ' Yan pərdələr',\n",
       "       'Kondisioner', 'Yüngül lehimli disklər', 'Yağış sensoru', 'Park radarı',\n",
       "       'Oturacaqların ventilyasiyası', ' Ksenon lampalar', 'Dəri salon',\n",
       "       'Yekun Qiymet'],\n",
       "      dtype='object')"
      ]
     },
     "execution_count": 153,
     "metadata": {},
     "output_type": "execute_result"
    }
   ],
   "source": [
    "data.columns"
   ]
  },
  {
   "cell_type": "code",
   "execution_count": null,
   "id": "b9c2bab8-3ded-4bee-8812-39893c976c86",
   "metadata": {},
   "outputs": [],
   "source": []
  }
 ],
 "metadata": {
  "kernelspec": {
   "display_name": "Python 3 (ipykernel)",
   "language": "python",
   "name": "python3"
  },
  "language_info": {
   "codemirror_mode": {
    "name": "ipython",
    "version": 3
   },
   "file_extension": ".py",
   "mimetype": "text/x-python",
   "name": "python",
   "nbconvert_exporter": "python",
   "pygments_lexer": "ipython3",
   "version": "3.12.7"
  }
 },
 "nbformat": 4,
 "nbformat_minor": 5
}
